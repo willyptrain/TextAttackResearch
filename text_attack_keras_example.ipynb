{
  "nbformat": 4,
  "nbformat_minor": 0,
  "metadata": {
    "colab": {
      "name": "text_attack_keras_example.ipynb",
      "provenance": [],
      "collapsed_sections": [],
      "authorship_tag": "ABX9TyN1GXFYt62j7C2h0V1FmX6J",
      "include_colab_link": true
    },
    "kernelspec": {
      "name": "python3",
      "display_name": "Python 3"
    },
    "accelerator": "GPU"
  },
  "cells": [
    {
      "cell_type": "markdown",
      "metadata": {
        "id": "view-in-github",
        "colab_type": "text"
      },
      "source": [
        "<a href=\"https://colab.research.google.com/github/willyptrain/TextAttackResearch/blob/main/text_attack_keras_example.ipynb\" target=\"_parent\"><img src=\"https://colab.research.google.com/assets/colab-badge.svg\" alt=\"Open In Colab\"/></a>"
      ]
    },
    {
      "cell_type": "code",
      "metadata": {
        "id": "4K3WEbfdcFpa",
        "colab": {
          "base_uri": "https://localhost:8080/",
          "height": 1000
        },
        "outputId": "7a1963df-9691-4e8f-8324-96c8d5340952"
      },
      "source": [
        "!git clone \"https://github.com/QData/TextAttack.git\"\n",
        "%cd TextAttack/\n",
        "!pip install -e ."
      ],
      "execution_count": null,
      "outputs": [
        {
          "output_type": "stream",
          "text": [
            "Cloning into 'TextAttack'...\n",
            "remote: Enumerating objects: 127, done.\u001b[K\n",
            "remote: Counting objects: 100% (127/127), done.\u001b[K\n",
            "remote: Compressing objects: 100% (94/94), done.\u001b[K\n",
            "remote: Total 17445 (delta 69), reused 71 (delta 33), pack-reused 17318\u001b[K\n",
            "Receiving objects: 100% (17445/17445), 23.62 MiB | 16.21 MiB/s, done.\n",
            "Resolving deltas: 100% (13063/13063), done.\n",
            "/content/TextAttack\n",
            "Obtaining file:///content/TextAttack\n",
            "Collecting bert-score>=0.3.5\n",
            "\u001b[?25l  Downloading https://files.pythonhosted.org/packages/a1/f9/7bd03a70ccb4e3f6a334f5f5dc8871d76de10144d277d23f730b08cf2aaf/bert_score-0.3.7-py3-none-any.whl (53kB)\n",
            "\u001b[K     |████████████████████████████████| 61kB 6.9MB/s \n",
            "\u001b[?25hRequirement already satisfied: editdistance in /usr/local/lib/python3.6/dist-packages (from textattack==0.2.14) (0.5.3)\n",
            "Collecting flair==0.6.1.post1\n",
            "\u001b[?25l  Downloading https://files.pythonhosted.org/packages/4a/49/a812ed93088ba9519cbb40eb9f52341694b31cfa126bfddcd9db3761f3ac/flair-0.6.1.post1-py3-none-any.whl (337kB)\n",
            "\u001b[K     |████████████████████████████████| 337kB 14.4MB/s \n",
            "\u001b[?25hRequirement already satisfied: filelock in /usr/local/lib/python3.6/dist-packages (from textattack==0.2.14) (3.0.12)\n",
            "Collecting language_tool_python\n",
            "  Downloading https://files.pythonhosted.org/packages/ed/b0/2a67ec6a7ff914edbb3b2ba335a711ca3a564ad4189ed16d33b67e3b0426/language_tool_python-2.4.7-py3-none-any.whl\n",
            "Collecting lemminflect\n",
            "\u001b[?25l  Downloading https://files.pythonhosted.org/packages/8d/c5/62e8dd0b6cbfea212cf55a2338838d85a819dbda9462ba53a415dcf19b86/lemminflect-0.2.1-py3-none-any.whl (769kB)\n",
            "\u001b[K     |████████████████████████████████| 778kB 31.5MB/s \n",
            "\u001b[?25hCollecting lru-dict\n",
            "  Downloading https://files.pythonhosted.org/packages/00/a5/32ed6e10246cd341ca8cc205acea5d208e4053f48a4dced2b1b31d45ba3f/lru-dict-1.1.6.tar.gz\n",
            "Collecting datasets\n",
            "\u001b[?25l  Downloading https://files.pythonhosted.org/packages/1a/38/0c24dce24767386123d528d27109024220db0e7a04467b658d587695241a/datasets-1.1.3-py3-none-any.whl (153kB)\n",
            "\u001b[K     |████████████████████████████████| 163kB 47.4MB/s \n",
            "\u001b[?25hRequirement already satisfied: nltk in /usr/local/lib/python3.6/dist-packages (from textattack==0.2.14) (3.2.5)\n",
            "Collecting numpy<1.19.0\n",
            "\u001b[?25l  Downloading https://files.pythonhosted.org/packages/b3/a9/b1bc4c935ed063766bce7d3e8c7b20bd52e515ff1c732b02caacf7918e5a/numpy-1.18.5-cp36-cp36m-manylinux1_x86_64.whl (20.1MB)\n",
            "\u001b[K     |████████████████████████████████| 20.1MB 1.4MB/s \n",
            "\u001b[?25hRequirement already satisfied: pandas>=1.0.1 in /usr/local/lib/python3.6/dist-packages (from textattack==0.2.14) (1.1.5)\n",
            "Requirement already satisfied: scipy==1.4.1 in /usr/local/lib/python3.6/dist-packages (from textattack==0.2.14) (1.4.1)\n",
            "Requirement already satisfied: torch in /usr/local/lib/python3.6/dist-packages (from textattack==0.2.14) (1.7.0+cu101)\n",
            "Collecting transformers==3.3.0\n",
            "\u001b[?25l  Downloading https://files.pythonhosted.org/packages/3a/fc/18e56e5b1093052bacf6750442410423f3d9785d14ce4f54ab2ac6b112a6/transformers-3.3.0-py3-none-any.whl (1.1MB)\n",
            "\u001b[K     |████████████████████████████████| 1.1MB 52.2MB/s \n",
            "\u001b[?25hCollecting terminaltables\n",
            "  Downloading https://files.pythonhosted.org/packages/9b/c4/4a21174f32f8a7e1104798c445dacdc1d4df86f2f26722767034e4de4bff/terminaltables-3.1.0.tar.gz\n",
            "Collecting tokenizers==0.8.1-rc2\n",
            "\u001b[?25l  Downloading https://files.pythonhosted.org/packages/80/83/8b9fccb9e48eeb575ee19179e2bdde0ee9a1904f97de5f02d19016b8804f/tokenizers-0.8.1rc2-cp36-cp36m-manylinux1_x86_64.whl (3.0MB)\n",
            "\u001b[K     |████████████████████████████████| 3.0MB 51.1MB/s \n",
            "\u001b[?25hRequirement already satisfied: tqdm<4.50.0,>=4.27 in /usr/local/lib/python3.6/dist-packages (from textattack==0.2.14) (4.41.1)\n",
            "Collecting word2number\n",
            "  Downloading https://files.pythonhosted.org/packages/4a/29/a31940c848521f0725f0df6b25dca8917f13a2025b0e8fcbe5d0457e45e6/word2number-1.1.zip\n",
            "Collecting num2words\n",
            "\u001b[?25l  Downloading https://files.pythonhosted.org/packages/eb/a2/ea800689730732e27711c41beed4b2a129b34974435bdc450377ec407738/num2words-0.5.10-py3-none-any.whl (101kB)\n",
            "\u001b[K     |████████████████████████████████| 102kB 12.8MB/s \n",
            "\u001b[?25hRequirement already satisfied: more-itertools in /usr/local/lib/python3.6/dist-packages (from textattack==0.2.14) (8.6.0)\n",
            "Requirement already satisfied: PySocks!=1.5.7,>=1.5.6 in /usr/local/lib/python3.6/dist-packages (from textattack==0.2.14) (1.7.1)\n",
            "Requirement already satisfied: matplotlib in /usr/local/lib/python3.6/dist-packages (from bert-score>=0.3.5->textattack==0.2.14) (3.2.2)\n",
            "Requirement already satisfied: requests in /usr/local/lib/python3.6/dist-packages (from bert-score>=0.3.5->textattack==0.2.14) (2.23.0)\n",
            "Collecting sentencepiece!=0.1.92\n",
            "\u001b[?25l  Downloading https://files.pythonhosted.org/packages/e5/2d/6d4ca4bef9a67070fa1cac508606328329152b1df10bdf31fb6e4e727894/sentencepiece-0.1.94-cp36-cp36m-manylinux2014_x86_64.whl (1.1MB)\n",
            "\u001b[K     |████████████████████████████████| 1.1MB 46.9MB/s \n",
            "\u001b[?25hRequirement already satisfied: lxml in /usr/local/lib/python3.6/dist-packages (from flair==0.6.1.post1->textattack==0.2.14) (4.2.6)\n",
            "Collecting janome\n",
            "\u001b[?25l  Downloading https://files.pythonhosted.org/packages/a8/63/98858cbead27df7536c7e300c169da0999e9704d02220dc6700b804eeff0/Janome-0.4.1-py2.py3-none-any.whl (19.7MB)\n",
            "\u001b[K     |████████████████████████████████| 19.7MB 23.0MB/s \n",
            "\u001b[?25hCollecting mpld3==0.3\n",
            "\u001b[?25l  Downloading https://files.pythonhosted.org/packages/91/95/a52d3a83d0a29ba0d6898f6727e9858fe7a43f6c2ce81a5fe7e05f0f4912/mpld3-0.3.tar.gz (788kB)\n",
            "\u001b[K     |████████████████████████████████| 798kB 50.6MB/s \n",
            "\u001b[?25hCollecting sqlitedict>=1.6.0\n",
            "  Downloading https://files.pythonhosted.org/packages/5c/2d/b1d99e9ad157dd7de9cd0d36a8a5876b13b55e4b75f7498bc96035fb4e96/sqlitedict-1.7.0.tar.gz\n",
            "Requirement already satisfied: tabulate in /usr/local/lib/python3.6/dist-packages (from flair==0.6.1.post1->textattack==0.2.14) (0.8.7)\n",
            "Requirement already satisfied: regex in /usr/local/lib/python3.6/dist-packages (from flair==0.6.1.post1->textattack==0.2.14) (2019.12.20)\n",
            "Requirement already satisfied: hyperopt>=0.1.1 in /usr/local/lib/python3.6/dist-packages (from flair==0.6.1.post1->textattack==0.2.14) (0.1.2)\n",
            "Requirement already satisfied: gensim>=3.4.0 in /usr/local/lib/python3.6/dist-packages (from flair==0.6.1.post1->textattack==0.2.14) (3.6.0)\n",
            "Requirement already satisfied: gdown in /usr/local/lib/python3.6/dist-packages (from flair==0.6.1.post1->textattack==0.2.14) (3.6.4)\n",
            "Collecting langdetect\n",
            "\u001b[?25l  Downloading https://files.pythonhosted.org/packages/56/a3/8407c1e62d5980188b4acc45ef3d94b933d14a2ebc9ef3505f22cf772570/langdetect-1.0.8.tar.gz (981kB)\n",
            "\u001b[K     |████████████████████████████████| 983kB 42.6MB/s \n",
            "\u001b[?25hCollecting deprecated>=1.2.4\n",
            "  Downloading https://files.pythonhosted.org/packages/76/a1/05d7f62f956d77b23a640efc650f80ce24483aa2f85a09c03fb64f49e879/Deprecated-1.2.10-py2.py3-none-any.whl\n",
            "Collecting segtok>=1.5.7\n",
            "  Downloading https://files.pythonhosted.org/packages/41/08/582dab5f4b1d5ca23bc6927b4bb977c8ff7f3a87a3b98844ef833e2f5623/segtok-1.5.10.tar.gz\n",
            "Requirement already satisfied: python-dateutil>=2.6.1 in /usr/local/lib/python3.6/dist-packages (from flair==0.6.1.post1->textattack==0.2.14) (2.8.1)\n",
            "Collecting bpemb>=0.3.2\n",
            "  Downloading https://files.pythonhosted.org/packages/91/77/3f0f53856e86af32b1d3c86652815277f7b5f880002584eb30db115b6df5/bpemb-0.3.2-py3-none-any.whl\n",
            "Collecting ftfy\n",
            "\u001b[?25l  Downloading https://files.pythonhosted.org/packages/ff/e2/3b51c53dffb1e52d9210ebc01f1fb9f2f6eba9b3201fa971fd3946643c71/ftfy-5.8.tar.gz (64kB)\n",
            "\u001b[K     |████████████████████████████████| 71kB 10.6MB/s \n",
            "\u001b[?25hCollecting konoha<5.0.0,>=4.0.0\n",
            "  Downloading https://files.pythonhosted.org/packages/ea/01/47358efec5396fc80f98273c42cbdfe7aab056252b07884ffcc0f118978f/konoha-4.6.2-py3-none-any.whl\n",
            "Requirement already satisfied: scikit-learn>=0.21.3 in /usr/local/lib/python3.6/dist-packages (from flair==0.6.1.post1->textattack==0.2.14) (0.22.2.post1)\n",
            "Collecting pyarrow>=0.17.1\n",
            "\u001b[?25l  Downloading https://files.pythonhosted.org/packages/d7/e1/27958a70848f8f7089bff8d6ebe42519daf01f976d28b481e1bfd52c8097/pyarrow-2.0.0-cp36-cp36m-manylinux2014_x86_64.whl (17.7MB)\n",
            "\u001b[K     |████████████████████████████████| 17.7MB 380kB/s \n",
            "\u001b[?25hRequirement already satisfied: dataclasses; python_version < \"3.7\" in /usr/local/lib/python3.6/dist-packages (from datasets->textattack==0.2.14) (0.8)\n",
            "Requirement already satisfied: dill in /usr/local/lib/python3.6/dist-packages (from datasets->textattack==0.2.14) (0.3.3)\n",
            "Collecting xxhash\n",
            "\u001b[?25l  Downloading https://files.pythonhosted.org/packages/f7/73/826b19f3594756cb1c6c23d2fbd8ca6a77a9cd3b650c9dec5acc85004c38/xxhash-2.0.0-cp36-cp36m-manylinux2010_x86_64.whl (242kB)\n",
            "\u001b[K     |████████████████████████████████| 245kB 55.0MB/s \n",
            "\u001b[?25hRequirement already satisfied: multiprocess in /usr/local/lib/python3.6/dist-packages (from datasets->textattack==0.2.14) (0.70.11.1)\n",
            "Requirement already satisfied: six in /usr/local/lib/python3.6/dist-packages (from nltk->textattack==0.2.14) (1.15.0)\n",
            "Requirement already satisfied: pytz>=2017.2 in /usr/local/lib/python3.6/dist-packages (from pandas>=1.0.1->textattack==0.2.14) (2018.9)\n",
            "Requirement already satisfied: typing-extensions in /usr/local/lib/python3.6/dist-packages (from torch->textattack==0.2.14) (3.7.4.3)\n",
            "Requirement already satisfied: future in /usr/local/lib/python3.6/dist-packages (from torch->textattack==0.2.14) (0.16.0)\n",
            "Collecting sacremoses\n",
            "\u001b[?25l  Downloading https://files.pythonhosted.org/packages/7d/34/09d19aff26edcc8eb2a01bed8e98f13a1537005d31e95233fd48216eed10/sacremoses-0.0.43.tar.gz (883kB)\n",
            "\u001b[K     |████████████████████████████████| 890kB 45.5MB/s \n",
            "\u001b[?25hRequirement already satisfied: packaging in /usr/local/lib/python3.6/dist-packages (from transformers==3.3.0->textattack==0.2.14) (20.8)\n",
            "Requirement already satisfied: docopt>=0.6.2 in /usr/local/lib/python3.6/dist-packages (from num2words->textattack==0.2.14) (0.6.2)\n",
            "Requirement already satisfied: kiwisolver>=1.0.1 in /usr/local/lib/python3.6/dist-packages (from matplotlib->bert-score>=0.3.5->textattack==0.2.14) (1.3.1)\n",
            "Requirement already satisfied: cycler>=0.10 in /usr/local/lib/python3.6/dist-packages (from matplotlib->bert-score>=0.3.5->textattack==0.2.14) (0.10.0)\n",
            "Requirement already satisfied: pyparsing!=2.0.4,!=2.1.2,!=2.1.6,>=2.0.1 in /usr/local/lib/python3.6/dist-packages (from matplotlib->bert-score>=0.3.5->textattack==0.2.14) (2.4.7)\n",
            "Requirement already satisfied: idna<3,>=2.5 in /usr/local/lib/python3.6/dist-packages (from requests->bert-score>=0.3.5->textattack==0.2.14) (2.10)\n",
            "Requirement already satisfied: chardet<4,>=3.0.2 in /usr/local/lib/python3.6/dist-packages (from requests->bert-score>=0.3.5->textattack==0.2.14) (3.0.4)\n",
            "Requirement already satisfied: urllib3!=1.25.0,!=1.25.1,<1.26,>=1.21.1 in /usr/local/lib/python3.6/dist-packages (from requests->bert-score>=0.3.5->textattack==0.2.14) (1.24.3)\n",
            "Requirement already satisfied: certifi>=2017.4.17 in /usr/local/lib/python3.6/dist-packages (from requests->bert-score>=0.3.5->textattack==0.2.14) (2020.12.5)\n",
            "Requirement already satisfied: networkx in /usr/local/lib/python3.6/dist-packages (from hyperopt>=0.1.1->flair==0.6.1.post1->textattack==0.2.14) (2.5)\n",
            "Requirement already satisfied: pymongo in /usr/local/lib/python3.6/dist-packages (from hyperopt>=0.1.1->flair==0.6.1.post1->textattack==0.2.14) (3.11.2)\n",
            "Requirement already satisfied: smart-open>=1.2.1 in /usr/local/lib/python3.6/dist-packages (from gensim>=3.4.0->flair==0.6.1.post1->textattack==0.2.14) (4.0.1)\n",
            "Requirement already satisfied: wrapt<2,>=1.10 in /usr/local/lib/python3.6/dist-packages (from deprecated>=1.2.4->flair==0.6.1.post1->textattack==0.2.14) (1.12.1)\n",
            "Requirement already satisfied: wcwidth in /usr/local/lib/python3.6/dist-packages (from ftfy->flair==0.6.1.post1->textattack==0.2.14) (0.2.5)\n",
            "Collecting overrides==3.0.0\n",
            "  Downloading https://files.pythonhosted.org/packages/42/8d/caa729f809ecdf8e76fac3c1ff7d3f0b72c398c9dd8a6919927a30a873b3/overrides-3.0.0.tar.gz\n",
            "Requirement already satisfied: joblib>=0.11 in /usr/local/lib/python3.6/dist-packages (from scikit-learn>=0.21.3->flair==0.6.1.post1->textattack==0.2.14) (1.0.0)\n",
            "Requirement already satisfied: click in /usr/local/lib/python3.6/dist-packages (from sacremoses->transformers==3.3.0->textattack==0.2.14) (7.1.2)\n",
            "Requirement already satisfied: decorator>=4.3.0 in /usr/local/lib/python3.6/dist-packages (from networkx->hyperopt>=0.1.1->flair==0.6.1.post1->textattack==0.2.14) (4.4.2)\n",
            "Building wheels for collected packages: lru-dict, terminaltables, word2number, mpld3, sqlitedict, langdetect, segtok, ftfy, sacremoses, overrides\n",
            "  Building wheel for lru-dict (setup.py) ... \u001b[?25l\u001b[?25hdone\n",
            "  Created wheel for lru-dict: filename=lru_dict-1.1.6-cp36-cp36m-linux_x86_64.whl size=25878 sha256=b1e3aec837ba78f478234c5f8bf8c885b908e10a6c8eba15e3d71383c997a198\n",
            "  Stored in directory: /root/.cache/pip/wheels/b7/ef/06/fbdd555907a7d438fb33e4c8675f771ff1cf41917284c51ebf\n",
            "  Building wheel for terminaltables (setup.py) ... \u001b[?25l\u001b[?25hdone\n",
            "  Created wheel for terminaltables: filename=terminaltables-3.1.0-cp36-none-any.whl size=15358 sha256=87e587db593b50e7ab83430d049ddab323d990d2d8a3c45bff7b8b0eeb782104\n",
            "  Stored in directory: /root/.cache/pip/wheels/30/6b/50/6c75775b681fb36cdfac7f19799888ef9d8813aff9e379663e\n",
            "  Building wheel for word2number (setup.py) ... \u001b[?25l\u001b[?25hdone\n",
            "  Created wheel for word2number: filename=word2number-1.1-cp36-none-any.whl size=5588 sha256=1159876d7a836c635b5be47852c782a131c332c682cfd5740c0ea2cecc8b1239\n",
            "  Stored in directory: /root/.cache/pip/wheels/46/2f/53/5f5c1d275492f2fce1cdab9a9bb12d49286dead829a4078e0e\n",
            "  Building wheel for mpld3 (setup.py) ... \u001b[?25l\u001b[?25hdone\n",
            "  Created wheel for mpld3: filename=mpld3-0.3-cp36-none-any.whl size=116678 sha256=8dd5b77b89eb5896c9b5b146c947d1c1fdac0177fe0d10e5fd6d3848c130e926\n",
            "  Stored in directory: /root/.cache/pip/wheels/c0/47/fb/8a64f89aecfe0059830479308ad42d62e898a3e3cefdf6ba28\n",
            "  Building wheel for sqlitedict (setup.py) ... \u001b[?25l\u001b[?25hdone\n",
            "  Created wheel for sqlitedict: filename=sqlitedict-1.7.0-cp36-none-any.whl size=14376 sha256=8d80dfebe717540b77f00d4543ba3393d1370f717c27c0973768e35f40fe6859\n",
            "  Stored in directory: /root/.cache/pip/wheels/cf/c6/4f/2c64a43f041415eb8b8740bd80e15e92f0d46c5e464d8e4b9b\n",
            "  Building wheel for langdetect (setup.py) ... \u001b[?25l\u001b[?25hdone\n",
            "  Created wheel for langdetect: filename=langdetect-1.0.8-cp36-none-any.whl size=993194 sha256=39781dd7d9fa470d2ae66d1d12da8507007a59d8df99bba3f05b508ad2522566\n",
            "  Stored in directory: /root/.cache/pip/wheels/8d/b3/aa/6d99de9f3841d7d3d40a60ea06e6d669e8e5012e6c8b947a57\n",
            "  Building wheel for segtok (setup.py) ... \u001b[?25l\u001b[?25hdone\n",
            "  Created wheel for segtok: filename=segtok-1.5.10-cp36-none-any.whl size=25019 sha256=0bb3d36a6fcf4bb31e3260780a21545d9f249bbc872ead27425c5d863172abd6\n",
            "  Stored in directory: /root/.cache/pip/wheels/b4/39/f6/9ca1c5cabde964d728023b5751c3a206a5c8cc40252321fb6b\n",
            "  Building wheel for ftfy (setup.py) ... \u001b[?25l\u001b[?25hdone\n",
            "  Created wheel for ftfy: filename=ftfy-5.8-cp36-none-any.whl size=45613 sha256=aaf875cdb4584f3adec30e3ccaf5c964f5ca459ec21a2dbc2b1c6e17d76cb7ae\n",
            "  Stored in directory: /root/.cache/pip/wheels/ba/c0/ef/f28c4da5ac84a4e06ac256ca9182fc34fa57fefffdbc68425b\n",
            "  Building wheel for sacremoses (setup.py) ... \u001b[?25l\u001b[?25hdone\n",
            "  Created wheel for sacremoses: filename=sacremoses-0.0.43-cp36-none-any.whl size=893261 sha256=28c09ec5d582ad93c4eef95edc2a09d73795cc4488dd7371ce0c253c86e12012\n",
            "  Stored in directory: /root/.cache/pip/wheels/29/3c/fd/7ce5c3f0666dab31a50123635e6fb5e19ceb42ce38d4e58f45\n",
            "  Building wheel for overrides (setup.py) ... \u001b[?25l\u001b[?25hdone\n",
            "  Created wheel for overrides: filename=overrides-3.0.0-cp36-none-any.whl size=5669 sha256=24309786efe1f0f5e26840eaadba63f35e01ce5e993136d307c16e4a05bb8ca1\n",
            "  Stored in directory: /root/.cache/pip/wheels/6f/1b/ec/6c71a1eb823df7f850d956b2d8c50a6d49c191e1063d73b9be\n",
            "Successfully built lru-dict terminaltables word2number mpld3 sqlitedict langdetect segtok ftfy sacremoses overrides\n",
            "\u001b[31mERROR: tensorflow 2.4.0 has requirement numpy~=1.19.2, but you'll have numpy 1.18.5 which is incompatible.\u001b[0m\n",
            "\u001b[31mERROR: datascience 0.10.6 has requirement folium==0.2.1, but you'll have folium 0.8.3 which is incompatible.\u001b[0m\n",
            "\u001b[31mERROR: albumentations 0.1.12 has requirement imgaug<0.2.7,>=0.2.5, but you'll have imgaug 0.2.9 which is incompatible.\u001b[0m\n",
            "Installing collected packages: sentencepiece, tokenizers, numpy, sacremoses, transformers, bert-score, janome, mpld3, sqlitedict, langdetect, deprecated, segtok, bpemb, ftfy, overrides, konoha, flair, language-tool-python, lemminflect, lru-dict, pyarrow, xxhash, datasets, terminaltables, word2number, num2words, textattack\n",
            "  Found existing installation: numpy 1.19.4\n",
            "    Uninstalling numpy-1.19.4:\n",
            "      Successfully uninstalled numpy-1.19.4\n",
            "  Found existing installation: pyarrow 0.14.1\n",
            "    Uninstalling pyarrow-0.14.1:\n",
            "      Successfully uninstalled pyarrow-0.14.1\n",
            "  Running setup.py develop for textattack\n",
            "Successfully installed bert-score-0.3.7 bpemb-0.3.2 datasets-1.1.3 deprecated-1.2.10 flair-0.6.1.post1 ftfy-5.8 janome-0.4.1 konoha-4.6.2 langdetect-1.0.8 language-tool-python-2.4.7 lemminflect-0.2.1 lru-dict-1.1.6 mpld3-0.3 num2words-0.5.10 numpy-1.18.5 overrides-3.0.0 pyarrow-2.0.0 sacremoses-0.0.43 segtok-1.5.10 sentencepiece-0.1.94 sqlitedict-1.7.0 terminaltables-3.1.0 textattack tokenizers-0.8.1rc2 transformers-3.3.0 word2number-1.1 xxhash-2.0.0\n"
          ],
          "name": "stdout"
        },
        {
          "output_type": "display_data",
          "data": {
            "application/vnd.colab-display-data+json": {
              "pip_warning": {
                "packages": [
                  "numpy"
                ]
              }
            }
          },
          "metadata": {
            "tags": []
          }
        }
      ]
    },
    {
      "cell_type": "code",
      "metadata": {
        "colab": {
          "base_uri": "https://localhost:8080/"
        },
        "id": "Oru-kBljwyqd",
        "outputId": "4c2a2585-edd0-4a7e-a7cf-53acfb64076d"
      },
      "source": [
        "import tensorflow as tf\n",
        "import keras\n",
        "import os\n",
        "import numpy as np\n",
        "from keras.utils import to_categorical\n",
        "import torch\n",
        "import textattack\n",
        "from textattack.models.wrappers import ModelWrapper\n",
        "from textattack.datasets import HuggingFaceDataset\n",
        "from textattack.attack_recipes import PWWSRen2019\n",
        "\n",
        "\n",
        "import matplotlib\n",
        "import matplotlib.pyplot as plt\n",
        "\n",
        "import numpy as np\n",
        "from keras.utils import to_categorical\n",
        "from keras import models\n",
        "from keras import layers\n",
        "from keras.models import Sequential\n",
        "from keras.layers import Dense\n",
        "from keras.layers import Flatten\n",
        "from keras.layers import Dropout"
      ],
      "execution_count": null,
      "outputs": [
        {
          "output_type": "stream",
          "text": [
            "\u001b[34;1mtextattack\u001b[0m: Downloading https://textattack.s3.amazonaws.com/word_embeddings/paragramcf.\n",
            "100%|██████████| 481M/481M [00:16<00:00, 29.8MB/s]\n",
            "\u001b[34;1mtextattack\u001b[0m: Unzipping file /root/.cache/textattack/tmpdmzgnt8b.zip to /root/.cache/textattack/word_embeddings/paragramcf.\n",
            "\u001b[34;1mtextattack\u001b[0m: Successfully saved word_embeddings/paragramcf to cache.\n"
          ],
          "name": "stderr"
        }
      ]
    },
    {
      "cell_type": "code",
      "metadata": {
        "colab": {
          "base_uri": "https://localhost:8080/"
        },
        "id": "6rR709EZvO6O",
        "outputId": "7c57f56a-d0bd-46b8-eec4-bd1be1966583"
      },
      "source": [
        "#With help from: https://www.tensorflow.org/api_docs/python/tf/keras/datasets/imdb/load_data\n",
        "NUM_WORDS = 10000\n",
        "\n",
        "(x_train_tokens, y_train), (x_test_tokens, y_test) = tf.keras.datasets.imdb.load_data(\n",
        "    path=\"imdb.npz\",\n",
        "    num_words=NUM_WORDS,\n",
        "    skip_top=0,\n",
        "    maxlen=None,\n",
        "    seed=113,\n",
        "    start_char=1,\n",
        "    oov_char=2,\n",
        "    index_from=3\n",
        ")\n",
        "\n",
        "\n",
        "\n",
        "\n",
        "\n",
        "def transform(x):\n",
        "  x_transform = []\n",
        "  for i, word_indices in enumerate(x):\n",
        "    BoW_array = np.zeros((NUM_WORDS,))\n",
        "    for index in word_indices:\n",
        "      if index < len(BoW_array):\n",
        "        BoW_array[index] += 1\n",
        "    x_transform.append(BoW_array)\n",
        "  return np.array(x_transform)\n",
        "    \n",
        "\n",
        "index = int(0.9 * len(x_train_tokens))\n",
        "x_train = transform(x_train_tokens)[:index]\n",
        "x_test = transform(x_test_tokens)[index:]\n",
        "\n",
        "y_train = np.array(y_train[:index])\n",
        "y_test = np.array(y_test[index:])\n",
        "\n",
        "y_train = to_categorical(y_train)\n",
        "y_test = to_categorical(y_test)\n",
        "print(x_train.shape, y_train.shape, x_test.shape, y_test.shape)\n",
        "\n",
        "\n",
        "\n",
        "\n"
      ],
      "execution_count": null,
      "outputs": [
        {
          "output_type": "stream",
          "text": [
            "Downloading data from https://storage.googleapis.com/tensorflow/tf-keras-datasets/imdb.npz\n",
            "17465344/17464789 [==============================] - 0s 0us/step\n",
            "(22500, 10000) (22500, 2) (2500, 10000) (2500, 2)\n"
          ],
          "name": "stdout"
        }
      ]
    },
    {
      "cell_type": "code",
      "metadata": {
        "colab": {
          "base_uri": "https://localhost:8080/"
        },
        "id": "YjLVCp3Z0SUj",
        "outputId": "786c1a9b-8ee6-4ede-942a-17263ffc2aa0"
      },
      "source": [
        "\n",
        "#Model Created with Keras\n",
        "model = Sequential()\n",
        "model.add(Dense(512, activation='relu', input_dim=NUM_WORDS))\n",
        "model.add(Dropout(0.3))\n",
        "model.add(Dense(100, activation='relu'))\n",
        "model.add(Dense(2, activation='sigmoid'))\n",
        "\n",
        "\n",
        "\n",
        "opt = keras.optimizers.Adam(learning_rate=0.00001)\n",
        "\n",
        "model.compile(\n",
        " optimizer = opt,\n",
        " loss = \"binary_crossentropy\",\n",
        " metrics = [\"accuracy\"]\n",
        ")\n",
        "\n",
        "\n",
        "results = model.fit(\n",
        " x_train, y_train,\n",
        " epochs= 18,\n",
        " batch_size = 512,\n",
        " validation_data = (x_test, y_test)\n",
        ")\n",
        "\n",
        "\n",
        "print(results.history)\n"
      ],
      "execution_count": null,
      "outputs": [
        {
          "output_type": "stream",
          "text": [
            "<bound method Model.summary of <tensorflow.python.keras.engine.sequential.Sequential object at 0x7fa0458fee10>>\n",
            "Epoch 1/18\n",
            "44/44 [==============================] - 3s 28ms/step - loss: 0.7069 - accuracy: 0.5209 - val_loss: 0.6731 - val_accuracy: 0.6240\n",
            "Epoch 2/18\n",
            "44/44 [==============================] - 1s 16ms/step - loss: 0.6760 - accuracy: 0.6041 - val_loss: 0.6543 - val_accuracy: 0.6840\n",
            "Epoch 3/18\n",
            "44/44 [==============================] - 1s 16ms/step - loss: 0.6597 - accuracy: 0.6453 - val_loss: 0.6353 - val_accuracy: 0.7192\n",
            "Epoch 4/18\n",
            "44/44 [==============================] - 1s 16ms/step - loss: 0.6378 - accuracy: 0.6942 - val_loss: 0.6152 - val_accuracy: 0.7464\n",
            "Epoch 5/18\n",
            "44/44 [==============================] - 1s 16ms/step - loss: 0.6181 - accuracy: 0.7217 - val_loss: 0.5942 - val_accuracy: 0.7808\n",
            "Epoch 6/18\n",
            "44/44 [==============================] - 1s 24ms/step - loss: 0.5933 - accuracy: 0.7553 - val_loss: 0.5729 - val_accuracy: 0.8008\n",
            "Epoch 7/18\n",
            "44/44 [==============================] - 1s 16ms/step - loss: 0.5719 - accuracy: 0.7759 - val_loss: 0.5507 - val_accuracy: 0.8148\n",
            "Epoch 8/18\n",
            "44/44 [==============================] - 1s 16ms/step - loss: 0.5450 - accuracy: 0.7960 - val_loss: 0.5290 - val_accuracy: 0.8256\n",
            "Epoch 9/18\n",
            "44/44 [==============================] - 1s 16ms/step - loss: 0.5201 - accuracy: 0.8148 - val_loss: 0.5064 - val_accuracy: 0.8336\n",
            "Epoch 10/18\n",
            "44/44 [==============================] - 1s 16ms/step - loss: 0.5031 - accuracy: 0.8212 - val_loss: 0.4850 - val_accuracy: 0.8388\n",
            "Epoch 11/18\n",
            "44/44 [==============================] - 1s 16ms/step - loss: 0.4799 - accuracy: 0.8326 - val_loss: 0.4646 - val_accuracy: 0.8468\n",
            "Epoch 12/18\n",
            "44/44 [==============================] - 1s 16ms/step - loss: 0.4556 - accuracy: 0.8456 - val_loss: 0.4455 - val_accuracy: 0.8504\n",
            "Epoch 13/18\n",
            "44/44 [==============================] - 1s 16ms/step - loss: 0.4328 - accuracy: 0.8578 - val_loss: 0.4276 - val_accuracy: 0.8548\n",
            "Epoch 14/18\n",
            "44/44 [==============================] - 1s 16ms/step - loss: 0.4168 - accuracy: 0.8623 - val_loss: 0.4116 - val_accuracy: 0.8568\n",
            "Epoch 15/18\n",
            "44/44 [==============================] - 1s 16ms/step - loss: 0.3980 - accuracy: 0.8702 - val_loss: 0.3976 - val_accuracy: 0.8624\n",
            "Epoch 16/18\n",
            "44/44 [==============================] - 1s 16ms/step - loss: 0.3845 - accuracy: 0.8696 - val_loss: 0.3850 - val_accuracy: 0.8620\n",
            "Epoch 17/18\n",
            "44/44 [==============================] - 1s 16ms/step - loss: 0.3730 - accuracy: 0.8735 - val_loss: 0.3752 - val_accuracy: 0.8660\n",
            "Epoch 18/18\n",
            "44/44 [==============================] - 1s 16ms/step - loss: 0.3523 - accuracy: 0.8813 - val_loss: 0.3646 - val_accuracy: 0.8668\n",
            "{'loss': [0.6982908248901367, 0.6719189882278442, 0.6552321314811707, 0.6339828372001648, 0.6116981506347656, 0.5892458558082581, 0.5651863813400269, 0.5425485968589783, 0.5191691517829895, 0.49679040908813477, 0.47490108013153076, 0.4527125358581543, 0.4317401349544525, 0.4114888310432434, 0.39577117562294006, 0.381359338760376, 0.3658391833305359, 0.3557420074939728], 'accuracy': [0.5377333164215088, 0.6135555505752563, 0.6563555598258972, 0.6990666389465332, 0.731333315372467, 0.7592889070510864, 0.7805333137512207, 0.7969777584075928, 0.8121333122253418, 0.8241778016090393, 0.8349778056144714, 0.8455111384391785, 0.8550222516059875, 0.8615111112594604, 0.8684889078140259, 0.8726222515106201, 0.8766666650772095, 0.8783110976219177], 'val_loss': [0.673081636428833, 0.6542609930038452, 0.6353172063827515, 0.6151610612869263, 0.5941841006278992, 0.5729244947433472, 0.5507248044013977, 0.5290232300758362, 0.5063891410827637, 0.4850437641143799, 0.46456265449523926, 0.44545814394950867, 0.42756685614585876, 0.41164901852607727, 0.39760521054267883, 0.38501957058906555, 0.37516292929649353, 0.3646129071712494], 'val_accuracy': [0.6240000128746033, 0.6840000152587891, 0.7192000150680542, 0.746399998664856, 0.7807999849319458, 0.8008000254631042, 0.8148000240325928, 0.8256000280380249, 0.8335999846458435, 0.8388000130653381, 0.8468000292778015, 0.8503999710083008, 0.8547999858856201, 0.8568000197410583, 0.8623999953269958, 0.8619999885559082, 0.8659999966621399, 0.8668000102043152]}\n"
          ],
          "name": "stdout"
        }
      ]
    },
    {
      "cell_type": "code",
      "metadata": {
        "colab": {
          "base_uri": "https://localhost:8080/"
        },
        "id": "ShoxPryajyCr",
        "outputId": "868330a2-0ba6-4ad7-9480-27be63a11a9d"
      },
      "source": [
        "print(model.summary())"
      ],
      "execution_count": null,
      "outputs": [
        {
          "output_type": "stream",
          "text": [
            "Model: \"sequential\"\n",
            "_________________________________________________________________\n",
            "Layer (type)                 Output Shape              Param #   \n",
            "=================================================================\n",
            "dense (Dense)                (None, 512)               5120512   \n",
            "_________________________________________________________________\n",
            "dropout (Dropout)            (None, 512)               0         \n",
            "_________________________________________________________________\n",
            "dense_1 (Dense)              (None, 100)               51300     \n",
            "_________________________________________________________________\n",
            "dense_2 (Dense)              (None, 2)                 202       \n",
            "=================================================================\n",
            "Total params: 5,172,014\n",
            "Trainable params: 5,172,014\n",
            "Non-trainable params: 0\n",
            "_________________________________________________________________\n",
            "None\n"
          ],
          "name": "stdout"
        }
      ]
    },
    {
      "cell_type": "code",
      "metadata": {
        "colab": {
          "base_uri": "https://localhost:8080/"
        },
        "id": "Ib6Oxxak6ZUQ",
        "outputId": "9980d590-ab70-4a40-8fd6-d1eea8f516e1"
      },
      "source": [
        "words = {k:v+3 for k,v in keras.datasets.imdb.get_word_index().items()}\n",
        "words[\"<PAD>\"] = 0\n",
        "words[\"<START>\"] = 1\n",
        "words[\"<UNK>\"] = 2\n",
        "words[\"<UNUSED>\"] = 3\n",
        "\n",
        "def predict(tokens):\n",
        "  return model.predict(tokens)\n",
        "\n",
        "def words2tokens(word_str):\n",
        "  tokens = []\n",
        "  word_arr = word_str.split(\" \")\n",
        "  for wrd in word_arr:\n",
        "    if(wrd.lower() in words):\n",
        "      tokens.append(words[wrd.lower()])\n",
        "    else:\n",
        "      tokens.append(words[\"<UNK>\"])\n",
        "  return transform([tokens])\n",
        "\n",
        "\n",
        "def to_english(tokens):\n",
        "  tog = \"\"\n",
        "  words_reverse = {v:k for k,v in words.items()}\n",
        "  words_reverse[0] = \"<PAD>\"\n",
        "  words_reverse[1] = \"<START>\"\n",
        "  words_reverse[2] = \"<UNK>\"\n",
        "  words_reverse[3] = \"<UNUSED>\"\n",
        "  for w in tokens:\n",
        "    tog += (words_reverse[w]) + \" \"\n",
        "  return tog\n",
        "\n",
        "neg_sample = words2tokens(\"bad cast bad acting bad music\")\n",
        "print(predict(neg_sample))\n",
        "\n",
        "pos_sample = words2tokens(\"great cast great acting great music\")\n",
        "print(predict(pos_sample))\n",
        "\n",
        "\n",
        "neg_sample = words2tokens(\"the movie was awful\")\n",
        "print(predict(neg_sample))\n",
        "\n",
        "pos_sample = words2tokens(\"the movie was awesome\")\n",
        "print(predict(pos_sample))"
      ],
      "execution_count": null,
      "outputs": [
        {
          "output_type": "stream",
          "text": [
            "Downloading data from https://storage.googleapis.com/tensorflow/tf-keras-datasets/imdb_word_index.json\n",
            "1646592/1641221 [==============================] - 0s 0us/step\n",
            "[[0.5941873  0.42007488]]\n",
            "[[0.4384511 0.5733041]]\n",
            "[[0.55557764 0.44437635]]\n",
            "[[0.4965529  0.50741225]]\n"
          ],
          "name": "stdout"
        }
      ]
    },
    {
      "cell_type": "code",
      "metadata": {
        "colab": {
          "base_uri": "https://localhost:8080/"
        },
        "id": "W61gKHFs6Wj0",
        "outputId": "bc370c37-671c-470f-95db-a4e378610099"
      },
      "source": [
        "\n",
        "\n",
        "class CustomKerasModelWrapper(ModelWrapper):\n",
        "    def __init__(self, model):\n",
        "        self.model = model\n",
        "\n",
        "\n",
        "    def __call__(self, text_input_list):\n",
        "      text_array = np.array([words2tokens(text_input) for text_input in text_input_list])\n",
        "      prediction = self.model.predict(text_array)\n",
        "      preds = [list(prediction[i][0]) for i in range(0, len(prediction))]\n",
        "      return preds\n",
        "\n",
        "\n",
        "CustomKerasModelWrapper(model)([\"the movie was awful\", \"the movie was awesome\"])\n",
        "\n",
        "\n",
        "\n",
        "\n"
      ],
      "execution_count": null,
      "outputs": [
        {
          "output_type": "execute_result",
          "data": {
            "text/plain": [
              "[[0.55557764, 0.44437635], [0.4965529, 0.50741225]]"
            ]
          },
          "metadata": {
            "tags": []
          },
          "execution_count": 7
        }
      ]
    },
    {
      "cell_type": "code",
      "metadata": {
        "colab": {
          "base_uri": "https://localhost:8080/"
        },
        "id": "1NQusSfN40aK",
        "outputId": "dc2975b1-ff96-4bf3-f94f-e59ed22ec858"
      },
      "source": [
        "model_wrapper = CustomKerasModelWrapper(model)\n",
        "dataset = HuggingFaceDataset(\"rotten_tomatoes\", None, \"test\", shuffle=True)\n",
        "\n",
        "attack = PWWSRen2019.build(model_wrapper)\n",
        "\n",
        "results_iterable = attack.attack_dataset(dataset, indices=range(10))\n",
        "for result in results_iterable:\n",
        "  print()\n",
        "  print()\n",
        "  print(result.__str__(color_method='ansi'))"
      ],
      "execution_count": null,
      "outputs": [
        {
          "output_type": "stream",
          "text": [
            "Using custom data configuration default\n",
            "Reusing dataset rotten_tomatoes_movie_review (/root/.cache/huggingface/datasets/rotten_tomatoes_movie_review/default/1.0.0/9198dbc50858df8bdb0d5f18ccaf33125800af96ad8434bc8b829918c987ee8a)\n",
            "\u001b[34;1mtextattack\u001b[0m: Loading \u001b[94mdatasets\u001b[0m dataset \u001b[94mrotten_tomatoes\u001b[0m, split \u001b[94mtest\u001b[0m.\n",
            "\u001b[34;1mtextattack\u001b[0m: Unknown if model of class <class 'tensorflow.python.keras.engine.sequential.Sequential'> compatible with goal function <class 'textattack.goal_functions.classification.untargeted_classification.UntargetedClassification'>.\n"
          ],
          "name": "stderr"
        },
        {
          "output_type": "stream",
          "text": [
            "\n",
            "\n",
            "\u001b[92mPositive (50%)\u001b[0m --> \u001b[37m[SKIPPED]\u001b[0m\n",
            "\n",
            "movies like high crimes flog the dead horse of surprise as if it were an obligation . how about surprising us by trying something new ?\n",
            "\n",
            "\n",
            "\u001b[92mPositive (53%)\u001b[0m --> \u001b[37m[SKIPPED]\u001b[0m\n",
            "\n",
            "in a 102-minute film , aaliyah gets at most 20 minutes of screen time . . . . most viewers will wish there had been more of the \" queen \" and less of the \" damned . \"\n",
            "\n",
            "\n",
            "\u001b[91mNegative (51%)\u001b[0m --> \u001b[92mPositive (50%)\u001b[0m\n",
            "\n",
            "more \u001b[91mlikely\u001b[0m to have you \u001b[91mscratching\u001b[0m your \u001b[91mhead\u001b[0m than hiding under your seat .\n",
            "\n",
            "more \u001b[92mprobably\u001b[0m to have you \u001b[92mcancel\u001b[0m your \u001b[92mpsyche\u001b[0m than hiding under your seat .\n",
            "\n",
            "\n",
            "\u001b[91mNegative (50%)\u001b[0m --> \u001b[92mPositive (51%)\u001b[0m\n",
            "\n",
            "\u001b[91mslow\u001b[0m , silly and unintentionally hilarious .\n",
            "\n",
            "\u001b[92measy\u001b[0m , silly and unintentionally hilarious .\n",
            "\n",
            "\n",
            "\u001b[92mPositive (50%)\u001b[0m --> \u001b[91mNegative (52%)\u001b[0m\n",
            "\n",
            "by its modest , straight-ahead standards , undisputed scores a direct \u001b[92mhit\u001b[0m .\n",
            "\n",
            "by its modest , straight-ahead standards , undisputed scores a direct \u001b[91mshoot\u001b[0m .\n",
            "\n",
            "\n",
            "\u001b[92mPositive (51%)\u001b[0m --> \u001b[37m[SKIPPED]\u001b[0m\n",
            "\n",
            "novak contemplates a heartland so overwhelmed by its lack of purpose that it seeks excitement in manufactured high drama .\n",
            "\n",
            "\n",
            "\u001b[91mNegative (57%)\u001b[0m --> \u001b[92mPositive (50%)\u001b[0m\n",
            "\n",
            "i walked away not really \u001b[91mknow\u001b[0m who \" they \" were , what \" they \" \u001b[91mlooked\u001b[0m \u001b[91mlike\u001b[0m . why \" they \" were here and what \" they \" \u001b[91mwanted\u001b[0m and quite \u001b[91mhonestly\u001b[0m , i didn't \u001b[91mcare\u001b[0m .\n",
            "\n",
            "i walked away not really \u001b[92mlove\u001b[0m who \" they \" were , what \" they \" \u001b[92msearch\u001b[0m \u001b[92mcomparable\u001b[0m . why \" they \" were here and what \" they \" \u001b[92mdesire\u001b[0m and quite \u001b[92maboveboard\u001b[0m , i didn't \u001b[92mattention\u001b[0m .\n",
            "\n",
            "\n",
            "\u001b[91mNegative (53%)\u001b[0m --> \u001b[92mPositive (51%)\u001b[0m\n",
            "\n",
            "for this sort of \u001b[91mthing\u001b[0m to work , we need agile performers , but the proficient , \u001b[91mdull\u001b[0m sorvino has no light touch , and rodan is out of his league .\n",
            "\n",
            "for this sort of \u001b[92mmatter\u001b[0m to work , we need agile performers , but the proficient , \u001b[92mblunt\u001b[0m sorvino has no light touch , and rodan is out of his league .\n",
            "\n",
            "\n",
            "\u001b[91mNegative (52%)\u001b[0m --> \u001b[92mPositive (50%)\u001b[0m\n",
            "\n",
            ". . . hopefully it'll be at the \u001b[91mdollar\u001b[0m theatres by the time christmas \u001b[91mrolls\u001b[0m \u001b[91maround\u001b[0m . \u001b[91mwait\u001b[0m to see it then .\n",
            "\n",
            ". . . hopefully it'll be at the \u001b[92mclam\u001b[0m theatres by the time christmas \u001b[92mroll\u001b[0m \u001b[92mround\u001b[0m . \u001b[92mwaiting\u001b[0m to see it then .\n",
            "\n",
            "\n",
            "\u001b[92mPositive (52%)\u001b[0m --> \u001b[91mNegative (50%)\u001b[0m\n",
            "\n",
            "like \u001b[92mkissing\u001b[0m jessica stein , amy's orgasm has a \u001b[92mkey\u001b[0m strength in its willingness to \u001b[92mexplore\u001b[0m its principal characters with honesty , \u001b[92minsight\u001b[0m and humor .\n",
            "\n",
            "like \u001b[91mkiss\u001b[0m jessica stein , amy's orgasm has a \u001b[91mpaint\u001b[0m strength in its willingness to \u001b[91mresearch\u001b[0m its principal characters with honesty , \u001b[91mperceptiveness\u001b[0m and humor .\n"
          ],
          "name": "stdout"
        }
      ]
    },
    {
      "cell_type": "code",
      "metadata": {
        "id": "NyZ2pq8e427f"
      },
      "source": [
        ""
      ],
      "execution_count": null,
      "outputs": []
    }
  ]
}